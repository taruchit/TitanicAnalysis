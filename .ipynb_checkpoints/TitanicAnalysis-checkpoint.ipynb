{
 "cells": [
  {
   "cell_type": "markdown",
   "id": "2f89d9ad",
   "metadata": {},
   "source": [
    "# Problem Statement"
   ]
  },
  {
   "cell_type": "markdown",
   "id": "304ae9d2",
   "metadata": {},
   "source": [
    "Background\n",
    "\n",
    "Titanic was a ship which was carrying many passengers. \n",
    "\n",
    "Unfortunately, it got struck to an iceberg and submerged. \n",
    "\n",
    "Some passengers were lucky to escape and some could not escape the ship."
   ]
  },
  {
   "cell_type": "markdown",
   "id": "3aa0a39d",
   "metadata": {},
   "source": [
    "Data dictionary\n",
    "\n",
    "survival: - Whether a passenger survived or not. 0=No, 1=Yes\n",
    "\n",
    "pclass: - Ticket class of the passenger. 1=1st class, 2=2nd class, 3=3rd class\n",
    "\n",
    "sex: - Gender of the passenger.\n",
    "\n",
    "Age: - Age of the passenger.\n",
    "\n",
    "sibsp: - Number of siblings or spouses on the ship.\n",
    "\n",
    "parch: - Number of parents or children on the ship.\n",
    "\n",
    "ticket: - Ticket number of the passenger.\n",
    "\n",
    "fare: - Amount of fare the passenger paid.\n",
    "\n",
    "cabin: - Cabin number of the passenger.\n",
    "\n",
    "embarked: - Port of embarkation for the passenger. C=Cherbourg, Q=Queenstown, S=Southampton"
   ]
  },
  {
   "cell_type": "markdown",
   "id": "677a6129",
   "metadata": {},
   "source": [
    "# Hypothesis Generation"
   ]
  },
  {
   "cell_type": "markdown",
   "id": "3a973995",
   "metadata": {},
   "source": [
    "1. Passenger with higher ticket class may have higher chance to get saved.\n",
    "\n",
    "2. Female passengers may have higher chance to get saved.\n",
    "\n",
    "3. Young and old passengers may be preferred during survival operation over mid age passengers."
   ]
  },
  {
   "cell_type": "markdown",
   "id": "eb4dbed6",
   "metadata": {},
   "source": [
    "# Type of problem"
   ]
  },
  {
   "cell_type": "markdown",
   "id": "f0ba8b8a",
   "metadata": {},
   "source": [
    "This is a Binary classification problem, with target variable: - survival.\n",
    "    \n",
    "Survival=1; the passenger survived.\n",
    "\n",
    "Survival=0; the passenger did not survived. "
   ]
  },
  {
   "cell_type": "markdown",
   "id": "04a102df",
   "metadata": {},
   "source": [
    "# Loading the packages"
   ]
  },
  {
   "cell_type": "code",
   "execution_count": 1,
   "id": "fee4ae75",
   "metadata": {},
   "outputs": [],
   "source": [
    "import pandas as pd\n",
    "import numpy as np\n",
    "import seaborn as sns\n",
    "import matplotlib.pyplot as plt\n",
    "%matplotlib inline\n",
    "import warnings\n",
    "warnings.filterwarnings(\"ignore\")"
   ]
  },
  {
   "cell_type": "markdown",
   "id": "393a17e2",
   "metadata": {},
   "source": [
    "# Reading the dataset"
   ]
  },
  {
   "cell_type": "code",
   "execution_count": 2,
   "id": "d9d0f8cb",
   "metadata": {},
   "outputs": [],
   "source": [
    "train=pd.read_csv(\"train.csv\")\n",
    "test=pd.read_csv(\"test.csv\")"
   ]
  },
  {
   "cell_type": "code",
   "execution_count": 3,
   "id": "dea40de8",
   "metadata": {},
   "outputs": [],
   "source": [
    "#Creating copy of the dataset\n",
    "train_original=train.copy()\n",
    "test_original=test.copy()"
   ]
  },
  {
   "cell_type": "markdown",
   "id": "486af2ef",
   "metadata": {},
   "source": [
    "# Understanding the data"
   ]
  },
  {
   "cell_type": "code",
   "execution_count": 4,
   "id": "55a51d88",
   "metadata": {},
   "outputs": [
    {
     "data": {
      "text/plain": [
       "Index(['PassengerId', 'Survived', 'Pclass', 'Name', 'Sex', 'Age', 'SibSp',\n",
       "       'Parch', 'Ticket', 'Fare', 'Cabin', 'Embarked'],\n",
       "      dtype='object')"
      ]
     },
     "execution_count": 4,
     "metadata": {},
     "output_type": "execute_result"
    }
   ],
   "source": [
    "#Fetching the list of columns in the dataset\n",
    "train.columns"
   ]
  },
  {
   "cell_type": "code",
   "execution_count": 5,
   "id": "bdb93a8e",
   "metadata": {},
   "outputs": [
    {
     "data": {
      "text/plain": [
       "PassengerId      int64\n",
       "Survived         int64\n",
       "Pclass           int64\n",
       "Name            object\n",
       "Sex             object\n",
       "Age            float64\n",
       "SibSp            int64\n",
       "Parch            int64\n",
       "Ticket          object\n",
       "Fare           float64\n",
       "Cabin           object\n",
       "Embarked        object\n",
       "dtype: object"
      ]
     },
     "execution_count": 5,
     "metadata": {},
     "output_type": "execute_result"
    }
   ],
   "source": [
    "#Fetching the datatype of each column\n",
    "train.dtypes"
   ]
  },
  {
   "cell_type": "markdown",
   "id": "f5a7df95",
   "metadata": {},
   "source": [
    "Following are integer data: -\n",
    "\n",
    "PassengerId, \n",
    "Survived,\n",
    "Pclass,\n",
    "SibSp,\n",
    "Parch\n",
    "\n",
    "Following are strings: -\n",
    "\n",
    "Name,\n",
    "Sex,\n",
    "Ticket,\n",
    "Cabin,\n",
    "Embarked\n",
    "\n",
    "Following are float data: -\n",
    "\n",
    "Age,\n",
    "Fare"
   ]
  },
  {
   "cell_type": "code",
   "execution_count": 6,
   "id": "7dca08cf",
   "metadata": {},
   "outputs": [
    {
     "data": {
      "text/plain": [
       "(891, 12)"
      ]
     },
     "execution_count": 6,
     "metadata": {},
     "output_type": "execute_result"
    }
   ],
   "source": [
    "#Fetching number of rows and columns\n",
    "train.shape"
   ]
  },
  {
   "cell_type": "markdown",
   "id": "cbab68ea",
   "metadata": {},
   "source": [
    "Training dataset has: -\n",
    "\n",
    "891 rows\n",
    "\n",
    "12 columns"
   ]
  },
  {
   "cell_type": "markdown",
   "id": "233d1ad9",
   "metadata": {},
   "source": [
    "# Univariate Analysis"
   ]
  },
  {
   "cell_type": "code",
   "execution_count": 8,
   "id": "1c529a8a",
   "metadata": {},
   "outputs": [
    {
     "data": {
      "text/plain": [
       "0    549\n",
       "1    342\n",
       "Name: Survived, dtype: int64"
      ]
     },
     "execution_count": 8,
     "metadata": {},
     "output_type": "execute_result"
    }
   ],
   "source": [
    "#We will find frequency distribution of target variable: Survived\n",
    "train['Survived'].value_counts()"
   ]
  },
  {
   "cell_type": "markdown",
   "id": "2f21036d",
   "metadata": {},
   "source": [
    "Out of 891 passengers: -\n",
    "\n",
    "549 passengers did not survived.\n",
    "\n",
    "342 passengers survived."
   ]
  },
  {
   "cell_type": "code",
   "execution_count": 9,
   "id": "9881edaa",
   "metadata": {},
   "outputs": [
    {
     "data": {
      "text/plain": [
       "0    0.616162\n",
       "1    0.383838\n",
       "Name: Survived, dtype: float64"
      ]
     },
     "execution_count": 9,
     "metadata": {},
     "output_type": "execute_result"
    }
   ],
   "source": [
    "#We will find normalized frequency distribution of target variable: Survived.\n",
    "train['Survived'].value_counts(normalize=True)"
   ]
  },
  {
   "cell_type": "markdown",
   "id": "8ed48b64",
   "metadata": {},
   "source": [
    "Out of 891 passengers: -\n",
    "\n",
    "Around 62% did not survived.\n",
    "\n",
    "Around 38% survived."
   ]
  },
  {
   "cell_type": "markdown",
   "id": "e26ba5c8",
   "metadata": {},
   "source": [
    "Now we will find normalized frequency distribution on independent variables."
   ]
  },
  {
   "cell_type": "code",
   "execution_count": 10,
   "id": "c75068e6",
   "metadata": {},
   "outputs": [
    {
     "data": {
      "text/plain": [
       "3    0.551066\n",
       "1    0.242424\n",
       "2    0.206510\n",
       "Name: Pclass, dtype: float64"
      ]
     },
     "execution_count": 10,
     "metadata": {},
     "output_type": "execute_result"
    }
   ],
   "source": [
    "#Pclass\n",
    "train['Pclass'].value_counts(normalize=True)"
   ]
  },
  {
   "cell_type": "markdown",
   "id": "fabb1ed6",
   "metadata": {},
   "source": [
    "Around 24% of passengers are having 1st class ticket.\n",
    "\n",
    "Around 21% of passengers are having 2nd class ticket.\n",
    "\n",
    "Around 55% of passengers are having 3rd class ticket.\n",
    "\n",
    "Thus, half the number of passengers are travelling on 3rd class ticket."
   ]
  },
  {
   "cell_type": "code",
   "execution_count": 11,
   "id": "97a983df",
   "metadata": {},
   "outputs": [
    {
     "data": {
      "text/plain": [
       "male      0.647587\n",
       "female    0.352413\n",
       "Name: Sex, dtype: float64"
      ]
     },
     "execution_count": 11,
     "metadata": {},
     "output_type": "execute_result"
    }
   ],
   "source": [
    "#Sex\n",
    "train['Sex'].value_counts(normalize=True)"
   ]
  },
  {
   "cell_type": "markdown",
   "id": "77ea6289",
   "metadata": {},
   "source": [
    "Out of 891 passengers: -\n",
    "\n",
    "Around 65% are male.\n",
    "\n",
    "Around 35% are female."
   ]
  },
  {
   "cell_type": "code",
   "execution_count": 12,
   "id": "f3e034ca",
   "metadata": {},
   "outputs": [
    {
     "data": {
      "text/plain": [
       "24.00    0.042017\n",
       "22.00    0.037815\n",
       "18.00    0.036415\n",
       "28.00    0.035014\n",
       "19.00    0.035014\n",
       "           ...   \n",
       "55.50    0.001401\n",
       "74.00    0.001401\n",
       "0.92     0.001401\n",
       "70.50    0.001401\n",
       "12.00    0.001401\n",
       "Name: Age, Length: 88, dtype: float64"
      ]
     },
     "execution_count": 12,
     "metadata": {},
     "output_type": "execute_result"
    }
   ],
   "source": [
    "#Age\n",
    "train['Age'].value_counts(normalize=True)"
   ]
  },
  {
   "cell_type": "code",
   "execution_count": 13,
   "id": "ba24583e",
   "metadata": {},
   "outputs": [
    {
     "data": {
      "text/plain": [
       "<AxesSubplot:>"
      ]
     },
     "execution_count": 13,
     "metadata": {},
     "output_type": "execute_result"
    },
    {
     "data": {
      "image/png": "[encoded data removed]",
      "text/plain": [
       "<Figure size 432x288 with 1 Axes>"
      ]
     },
     "metadata": {
      "needs_background": "light"
     },
     "output_type": "display_data"
    }
   ],
   "source": [
    "train['Age'].value_counts().plot.bar()"
   ]
  },
  {
   "cell_type": "markdown",
   "id": "6e3856f2",
   "metadata": {},
   "source": [
    "Univariate analysis based on age of passengers is not possible at this point."
   ]
  },
  {
   "cell_type": "code",
   "execution_count": 14,
   "id": "3ae36805",
   "metadata": {},
   "outputs": [
    {
     "data": {
      "text/plain": [
       "0    0.682379\n",
       "1    0.234568\n",
       "2    0.031425\n",
       "4    0.020202\n",
       "3    0.017957\n",
       "8    0.007856\n",
       "5    0.005612\n",
       "Name: SibSp, dtype: float64"
      ]
     },
     "execution_count": 14,
     "metadata": {},
     "output_type": "execute_result"
    }
   ],
   "source": [
    "#SibSp\n",
    "train['SibSp'].value_counts(normalize=True)"
   ]
  },
  {
   "cell_type": "markdown",
   "id": "4307eac6",
   "metadata": {},
   "source": [
    "Out of 891 passengers: -\n",
    "\n",
    "Around 68% of passengers do not have any siblings or spouses on the ship.\n",
    "\n",
    "Around 23% of passengers have 1 sibling or spouse on the ship.\n",
    "\n",
    "Around 3% of passengers have 2 siblings or spouse on the ship.\n",
    "\n",
    "Around 1% of the passengers have 3 siblings or spouse on the ship.\n",
    "\n",
    "Around 2% of the passengers have 4 siblings or spouse on the ship.\n",
    "\n",
    "Around 0.5% of the passengers have 5 siblings or spouse on the ship.\n",
    "\n",
    "Around 0.7% of the passengers have 8 siblings or spouse on the ship.\n",
    "\n",
    "Thus: -\n",
    "\n",
    "Maximum number of passengers do not have any siblings or spouse on the ship."
   ]
  },
  {
   "cell_type": "code",
   "execution_count": 15,
   "id": "97fcf4f0",
   "metadata": {},
   "outputs": [],
   "source": [
    "#Parch"
   ]
  },
  {
   "cell_type": "code",
   "execution_count": 16,
   "id": "07f64e70",
   "metadata": {},
   "outputs": [
    {
     "data": {
      "text/plain": [
       "0    0.760943\n",
       "1    0.132435\n",
       "2    0.089787\n",
       "3    0.005612\n",
       "5    0.005612\n",
       "4    0.004489\n",
       "6    0.001122\n",
       "Name: Parch, dtype: float64"
      ]
     },
     "execution_count": 16,
     "metadata": {},
     "output_type": "execute_result"
    }
   ],
   "source": [
    "train['Parch'].value_counts(normalize=True)"
   ]
  },
  {
   "cell_type": "markdown",
   "id": "ff352104",
   "metadata": {},
   "source": [
    "Around 76% of the passengers do not have any parents or children on the ship.\n",
    "\n",
    "Around 13% of the passengers have 1 parent or child on the ship.\n",
    "\n",
    "Around 9% of the passengers have 2 parents or children on the ship.\n",
    "\n",
    "Around 1.5% of the passengers have 3 to 6 parents or children on the ship.\n",
    "\n",
    "Thus: -\n",
    "\n",
    "Maximum passengers do not have parents or children with them on the ship. "
   ]
  },
  {
   "cell_type": "code",
   "execution_count": 17,
   "id": "97c11836",
   "metadata": {},
   "outputs": [
    {
     "data": {
      "text/plain": [
       "S    0.724409\n",
       "C    0.188976\n",
       "Q    0.086614\n",
       "Name: Embarked, dtype: float64"
      ]
     },
     "execution_count": 17,
     "metadata": {},
     "output_type": "execute_result"
    }
   ],
   "source": [
    "#Embarked\n",
    "train['Embarked'].value_counts(normalize=True)"
   ]
  },
  {
   "cell_type": "markdown",
   "id": "02c2c45f",
   "metadata": {},
   "source": [
    "Around 72% of passengers came from Southampton\n",
    "\n",
    "Around 19% of passengers came from Cherbourg\n",
    "\n",
    "Around 9% of passengers came from Queenstown"
   ]
  },
  {
   "cell_type": "code",
   "execution_count": 18,
   "id": "9936c829",
   "metadata": {},
   "outputs": [
    {
     "data": {
      "text/plain": [
       "<AxesSubplot:xlabel='Fare', ylabel='Density'>"
      ]
     },
     "execution_count": 18,
     "metadata": {},
     "output_type": "execute_result"
    },
    {
     "data": {
      "image/png": "[encoded data removed]",
      "text/plain": [
       "<Figure size 432x288 with 1 Axes>"
      ]
     },
     "metadata": {
      "needs_background": "light"
     },
     "output_type": "display_data"
    }
   ],
   "source": [
    "sns.distplot(train['Fare'])"
   ]
  },
  {
   "cell_type": "markdown",
   "id": "1fb70579",
   "metadata": {},
   "source": [
    "Maximum number of passengers are having ticket with price below 100."
   ]
  },
  {
   "cell_type": "markdown",
   "id": "4bdce1f4",
   "metadata": {},
   "source": [
    "# Bivariate Analysis"
   ]
  },
  {
   "cell_type": "markdown",
   "id": "4708f810",
   "metadata": {},
   "source": [
    "Here, we will try to check our hypothesis if it stands valid or not."
   ]
  },
  {
   "cell_type": "code",
   "execution_count": 19,
   "id": "ecd5b773",
   "metadata": {},
   "outputs": [],
   "source": [
    "#Relation of feature Pclass with target variable: Survived.\n",
    "TicketClass=pd.crosstab(train['Pclass'],train['Survived'])"
   ]
  },
  {
   "cell_type": "code",
   "execution_count": 20,
   "id": "82bb9a2f",
   "metadata": {},
   "outputs": [
    {
     "name": "stdout",
     "output_type": "stream",
     "text": [
      "Survived    0    1\n",
      "Pclass            \n",
      "1          80  136\n",
      "2          97   87\n",
      "3         372  119\n"
     ]
    }
   ],
   "source": [
    "print(TicketClass)"
   ]
  },
  {
   "cell_type": "code",
   "execution_count": 22,
   "id": "3a439a4f",
   "metadata": {},
   "outputs": [
    {
     "data": {
      "text/plain": [
       "<AxesSubplot:xlabel='Pclass'>"
      ]
     },
     "execution_count": 22,
     "metadata": {},
     "output_type": "execute_result"
    },
    {
     "data": {
      "image/png": "[encoded data removed]",
      "text/plain": [
       "<Figure size 288x288 with 1 Axes>"
      ]
     },
     "metadata": {
      "needs_background": "light"
     },
     "output_type": "display_data"
    }
   ],
   "source": [
    "TicketClass.div(TicketClass.sum(1).astype(float),axis=0).plot(kind=\"bar\",stacked=True, figsize=(4,4))"
   ]
  },
  {
   "cell_type": "markdown",
   "id": "cff20637",
   "metadata": {},
   "source": [
    "Here from the crosstab results we can infer: -\n",
    "\n",
    "Out of 216 passengers having 1st class ticket, 80 did not survived and 136 survived.\n",
    "\n",
    "Out of 184 passengers having 2nd class ticket, 97 did not survived and 87 survived.\n",
    "\n",
    "Out of 491 passengers having 3rd class ticket, 372 did not survived and 119 survived.\n",
    "\n",
    "\n",
    "From the bar chart we can say higher the ticket class of the passenger, higher is the chance of survival. \n",
    "\n",
    "Thus, relatively least number of passengers survived having 3rd class ticket and relatively most number of passengers survived having 1st class ticket.\n",
    "\n",
    "Thus, our hypothesis \"Passenger with higher ticket class may have higher chance to get saved.\" is valid."
   ]
  },
  {
   "cell_type": "code",
   "execution_count": 23,
   "id": "452de607",
   "metadata": {},
   "outputs": [
    {
     "name": "stdout",
     "output_type": "stream",
     "text": [
      "Survived    0    1\n",
      "Sex               \n",
      "female     81  233\n",
      "male      468  109\n"
     ]
    }
   ],
   "source": [
    "#Relation of feature Sex with target feature: Survived.\n",
    "Gender=pd.crosstab(train['Sex'],train['Survived'])\n",
    "print(Gender)"
   ]
  },
  {
   "cell_type": "code",
   "execution_count": 25,
   "id": "b7f5283d",
   "metadata": {},
   "outputs": [
    {
     "data": {
      "text/plain": [
       "<AxesSubplot:xlabel='Sex'>"
      ]
     },
     "execution_count": 25,
     "metadata": {},
     "output_type": "execute_result"
    },
    {
     "data": {
      "image/png": "[encoded data removed]",
      "text/plain": [
       "<Figure size 288x288 with 1 Axes>"
      ]
     },
     "metadata": {
      "needs_background": "light"
     },
     "output_type": "display_data"
    }
   ],
   "source": [
    "Gender.div(Gender.sum(1).astype(float),axis=0).plot(kind=\"bar\",stacked=True, figsize=(4,4))"
   ]
  },
  {
   "cell_type": "markdown",
   "id": "53bc90fd",
   "metadata": {},
   "source": [
    "Here from crosstab results we can infer: -\n",
    "\n",
    "Out of 314 female passengers, 81 did not survived and 233 survived.\n",
    "\n",
    "Out of 577 male passengers, 468 did not survived and 109 survived.\n",
    "\n",
    "\n",
    "From the bar chart we can say that female passengers have relativery very high chance of survival than male passengers.\n",
    "\n",
    "Thus, our hypothesis \"Female passengers may have higher chance to get saved.\" is valid. "
   ]
  },
  {
   "cell_type": "code",
   "execution_count": null,
   "id": "8a9305b8",
   "metadata": {},
   "outputs": [],
   "source": []
  }
 ],
 "metadata": {
  "kernelspec": {
   "display_name": "Python 3",
   "language": "python",
   "name": "python3"
  },
  "language_info": {
   "codemirror_mode": {
    "name": "ipython",
    "version": 3
   },
   "file_extension": ".py",
   "mimetype": "text/x-python",
   "name": "python",
   "nbconvert_exporter": "python",
   "pygments_lexer": "ipython3",
   "version": "3.8.8"
  }
 },
 "nbformat": 4,
 "nbformat_minor": 5
}
